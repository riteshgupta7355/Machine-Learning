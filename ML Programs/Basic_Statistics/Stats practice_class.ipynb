{
 "cells": [
  {
   "cell_type": "code",
   "execution_count": 1,
   "metadata": {},
   "outputs": [
    {
     "name": "stdout",
     "output_type": "stream",
     "text": [
      "3.0\n"
     ]
    }
   ],
   "source": [
    "a=[1,2,3,4,5]\n",
    "print(sum(a)/len(a))"
   ]
  },
  {
   "cell_type": "code",
   "execution_count": 2,
   "metadata": {},
   "outputs": [
    {
     "name": "stdout",
     "output_type": "stream",
     "text": [
      "2.3333333333333335\n"
     ]
    }
   ],
   "source": [
    "import scipy;\n",
    "a=[1,2,4];\n",
    "print(scipy.mean(a));"
   ]
  },
  {
   "cell_type": "code",
   "execution_count": 3,
   "metadata": {},
   "outputs": [
    {
     "data": {
      "text/plain": [
       "2.3333333333333335"
      ]
     },
     "execution_count": 3,
     "metadata": {},
     "output_type": "execute_result"
    }
   ],
   "source": [
    "import numpy as np\n",
    "a = [1, 2, 4]\n",
    "np.mean(a)"
   ]
  },
  {
   "cell_type": "code",
   "execution_count": 4,
   "metadata": {},
   "outputs": [
    {
     "data": {
      "text/plain": [
       "3.0"
      ]
     },
     "execution_count": 4,
     "metadata": {},
     "output_type": "execute_result"
    }
   ],
   "source": [
    "def mean(numbers):\n",
    "    return(float(sum(numbers)/len(numbers)))\n",
    "mean([1,2,3,4,5])"
   ]
  },
  {
   "cell_type": "code",
   "execution_count": 5,
   "metadata": {},
   "outputs": [
    {
     "name": "stdout",
     "output_type": "stream",
     "text": [
      "11.0\n"
     ]
    }
   ],
   "source": [
    "#The list of digits.\n",
    "nums = [15,2,14,10,23,12,4,5,6,18]\n",
    " \n",
    "#Sort the list from smallest to largest.\n",
    "nums.sort()\n",
    " \n",
    "#Find the median.\n",
    "length = len(nums)\n",
    "if (length % 2 == 0):\n",
    "    median = (nums[(length)//2] + nums[(length)//2-1]) / 2\n",
    "else:\n",
    "    median = nums[(length-1)//2]\n",
    "\n",
    "#Display the result.\n",
    "print(median)"
   ]
  },
  {
   "cell_type": "code",
   "execution_count": 6,
   "metadata": {},
   "outputs": [
    {
     "data": {
      "text/plain": [
       "11.0"
      ]
     },
     "execution_count": 6,
     "metadata": {},
     "output_type": "execute_result"
    }
   ],
   "source": [
    "import numpy as np\n",
    "nums = [15,2,14,10,23,12,4,5,6,18]\n",
    "np.median(nums)"
   ]
  },
  {
   "cell_type": "code",
   "execution_count": 7,
   "metadata": {},
   "outputs": [
    {
     "data": {
      "text/plain": [
       "5"
      ]
     },
     "execution_count": 7,
     "metadata": {},
     "output_type": "execute_result"
    }
   ],
   "source": [
    "import statistics as sts\n",
    "\n",
    "l = [1, 3, 5, 7,9]\n",
    "\n",
    "sts.median(l)"
   ]
  },
  {
   "cell_type": "code",
   "execution_count": 8,
   "metadata": {},
   "outputs": [
    {
     "data": {
      "text/plain": [
       "21"
      ]
     },
     "execution_count": 8,
     "metadata": {},
     "output_type": "execute_result"
    }
   ],
   "source": [
    "nums = [15,2,14,10,23,12,4,5,6,18]\n",
    "range = max(nums)-min(nums)\n",
    "range"
   ]
  },
  {
   "cell_type": "code",
   "execution_count": 9,
   "metadata": {},
   "outputs": [
    {
     "data": {
      "text/plain": [
       "73"
      ]
     },
     "execution_count": 9,
     "metadata": {},
     "output_type": "execute_result"
    }
   ],
   "source": [
    "df=[25,56,10,46,36,69,78,5,67]\n",
    "def getrange(df):\n",
    "    max_val=max(df)\n",
    "    min_val=min(df)\n",
    "    return (max_val-min_val)\n",
    "getrange(df)"
   ]
  },
  {
   "cell_type": "code",
   "execution_count": 10,
   "metadata": {},
   "outputs": [
    {
     "name": "stdout",
     "output_type": "stream",
     "text": [
      "first Quartile= 5.25\n",
      "second Quartile(median)= 11.0\n",
      "third Quartile= 14.75\n"
     ]
    }
   ],
   "source": [
    "import numpy as np\n",
    "nums = [15,2,14,10,23,12,4,5,6,18]\n",
    "Q1=np.percentile(nums,25) # first Quartile Q1\n",
    "Q2=np.percentile(nums,50) # second Quartile Q2\n",
    "Q3=np.percentile(nums,75) # third Quartile Q3\n",
    "print('first Quartile=',Q1)\n",
    "print('second Quartile(median)=',Q2)\n",
    "print('third Quartile=',Q3)"
   ]
  },
  {
   "cell_type": "code",
   "execution_count": 11,
   "metadata": {},
   "outputs": [],
   "source": [
    "nums.sort()"
   ]
  },
  {
   "cell_type": "code",
   "execution_count": 12,
   "metadata": {},
   "outputs": [],
   "source": [
    "nums1=[25,18,30,8,15,5,10,35,40,45]"
   ]
  },
  {
   "cell_type": "code",
   "execution_count": 13,
   "metadata": {},
   "outputs": [
    {
     "name": "stdout",
     "output_type": "stream",
     "text": [
      "first Quartile= 11.25\n",
      "second Quartile(median)= 21.5\n",
      "third Quartile= 33.75\n"
     ]
    }
   ],
   "source": [
    "import numpy as np\n",
    "nums = [15,2,14,10,23,12,4,5,6,18]\n",
    "Q1=np.quantile(nums1,0.25) # first Quartile Q1\n",
    "Q2=np.percentile(nums1,50) # second Quartile Q2\n",
    "Q3=np.percentile(nums1,75) # third Quartile Q3\n",
    "print('first Quartile=',Q1)\n",
    "print('second Quartile(median)=',Q2)\n",
    "print('third Quartile=',Q3)"
   ]
  },
  {
   "cell_type": "code",
   "execution_count": 14,
   "metadata": {},
   "outputs": [
    {
     "data": {
      "text/plain": [
       "[15, 2, 14, 10, 23, 12, 4, 5, 6, 18]"
      ]
     },
     "execution_count": 14,
     "metadata": {},
     "output_type": "execute_result"
    }
   ],
   "source": [
    "nums"
   ]
  },
  {
   "cell_type": "code",
   "execution_count": 15,
   "metadata": {},
   "outputs": [
    {
     "name": "stdout",
     "output_type": "stream",
     "text": [
      "Inter quartile range = 9.5\n"
     ]
    }
   ],
   "source": [
    "import numpy as np\n",
    "nums = [15,2,14,10,23,12,4,5,6,18]\n",
    "Q1=np.percentile(nums,25) # first Quartile Q1\n",
    "Q2=np.percentile(nums,50) # second Quartile Q2\n",
    "Q3=np.percentile(nums,75) # third Quartile Q3\n",
    "IQR=Q3-Q1\n",
    "print('Inter quartile range =',IQR)"
   ]
  },
  {
   "cell_type": "code",
   "execution_count": 16,
   "metadata": {},
   "outputs": [
    {
     "data": {
      "text/plain": [
       "6.410148204214938"
      ]
     },
     "execution_count": 16,
     "metadata": {},
     "output_type": "execute_result"
    }
   ],
   "source": [
    "import numpy as np\n",
    "nums = [15,2,14,10,23,12,4,5,6,18]\n",
    "np.std(nums)"
   ]
  },
  {
   "cell_type": "code",
   "execution_count": 17,
   "metadata": {},
   "outputs": [
    {
     "data": {
      "text/plain": [
       "45.65555555555556"
      ]
     },
     "execution_count": 17,
     "metadata": {},
     "output_type": "execute_result"
    }
   ],
   "source": [
    "import statistics as stat\n",
    "nums = [15,2,14,10,23,12,4,5,6,18]\n",
    "stat.variance(nums)"
   ]
  },
  {
   "cell_type": "code",
   "execution_count": 18,
   "metadata": {},
   "outputs": [
    {
     "data": {
      "text/plain": [
       "41.089999999999996"
      ]
     },
     "execution_count": 18,
     "metadata": {},
     "output_type": "execute_result"
    }
   ],
   "source": [
    "import numpy as np\n",
    "nums = [15,2,14,10,23,12,4,5,6,18]\n",
    "np.var(nums)"
   ]
  },
  {
   "cell_type": "code",
   "execution_count": 19,
   "metadata": {},
   "outputs": [
    {
     "data": {
      "text/plain": [
       "6.410148204214938"
      ]
     },
     "execution_count": 19,
     "metadata": {},
     "output_type": "execute_result"
    }
   ],
   "source": [
    "np.sqrt(np.var(nums))"
   ]
  },
  {
   "cell_type": "code",
   "execution_count": 20,
   "metadata": {},
   "outputs": [
    {
     "data": {
      "text/plain": [
       "3.415650255319866"
      ]
     },
     "execution_count": 20,
     "metadata": {},
     "output_type": "execute_result"
    }
   ],
   "source": [
    "import numpy as np\n",
    "nums1 = [1,3,5,7,9,11]\n",
    "np.std(nums1)"
   ]
  },
  {
   "cell_type": "code",
   "execution_count": 21,
   "metadata": {},
   "outputs": [
    {
     "name": "stdout",
     "output_type": "stream",
     "text": [
      "This is POPULATION standard deviation.\n",
      "The mean of [98, 127, 133, 147, 170, 197, 201, 211, 255] is 171.0.\n",
      "The differences are [-73.0, -44.0, -38.0, -24.0, -1.0, 26.0, 30.0, 40.0, 84.0].\n",
      "The sum of squared differences is 19518.0.\n",
      "The variance is 2168.6666666666665.\n",
      "The standard deviation is 46.56894530335282.\n",
      "--------------------------\n",
      "This is SAMPLE standard deviation.\n",
      "The mean of [98, 127, 133, 147, 170, 197, 201, 211, 255] is 171.0.\n",
      "The differences are [-73.0, -44.0, -38.0, -24.0, -1.0, 26.0, 30.0, 40.0, 84.0].\n",
      "The sum of squared differences is 19518.0.\n",
      "The variance is 2439.75.\n",
      "The standard deviation is 49.393825525059306.\n",
      "--------------------------\n"
     ]
    }
   ],
   "source": [
    "import numpy as np\n",
    "def standard_deviation(lst, population=True):\n",
    "    \"\"\"Calculates the standard deviation for a list of numbers.\"\"\"\n",
    "    num_items = len(lst)\n",
    "    mean = sum(lst) / num_items\n",
    "    differences = [x - mean for x in lst]\n",
    "    sq_differences = [d ** 2 for d in differences]\n",
    "    ssd = sum(sq_differences)\n",
    "    if population is True:\n",
    "        print('This is POPULATION standard deviation.')\n",
    "        variance = ssd / num_items\n",
    "    else:\n",
    "        print('This is SAMPLE standard deviation.')\n",
    "        variance = ssd / (num_items - 1)\n",
    "    sd = np.sqrt(variance)\n",
    "    print('The mean of {} is {}.'.format(lst, mean))\n",
    "    print('The differences are {}.'.format(differences))\n",
    "    print('The sum of squared differences is {}.'.format(ssd))\n",
    "    print('The variance is {}.'.format(variance))\n",
    "    print('The standard deviation is {}.'.format(sd))\n",
    "    print('--------------------------')\n",
    "\n",
    "s = [98, 127, 133, 147, 170, 197, 201, 211, 255]\n",
    "standard_deviation(s)\n",
    "standard_deviation(s, population=False)"
   ]
  },
  {
   "cell_type": "code",
   "execution_count": 22,
   "metadata": {},
   "outputs": [
    {
     "data": {
      "text/plain": [
       "array([-8.82811202,  4.57521924,  8.13386995, ..., 11.73202566,\n",
       "        0.17703447, -8.78124161])"
      ]
     },
     "execution_count": 22,
     "metadata": {},
     "output_type": "execute_result"
    }
   ],
   "source": [
    "import numpy as np\n",
    "from scipy.stats import skew\n",
    "import pandas as pd\n",
    "\n",
    "data = np.random.normal(1, 10,100000)\n",
    "data"
   ]
  },
  {
   "cell_type": "code",
   "execution_count": 23,
   "metadata": {},
   "outputs": [
    {
     "name": "stdout",
     "output_type": "stream",
     "text": [
      "mean :  1.0058632456421082\n",
      "var  :  99.85062626705259\n",
      "skew :  0.0008504599946547902\n"
     ]
    }
   ],
   "source": [
    "print(\"mean : \", np.mean(data))\n",
    "print(\"var  : \", np.var(data))\n",
    "print(\"skew : \",skew(data))"
   ]
  },
  {
   "cell_type": "code",
   "execution_count": 24,
   "metadata": {},
   "outputs": [
    {
     "name": "stdout",
     "output_type": "stream",
     "text": [
      "mean :  1.0371482354042052\n",
      "var  :  100.19315995008245\n",
      "kurtosis:  0.014576027236674172\n"
     ]
    }
   ],
   "source": [
    "import numpy as np\n",
    "from scipy.stats import kurtosis\n",
    "data = np.random.normal(1, 10, 100000)\n",
    "print(\"mean : \", np.mean(data))\n",
    "print(\"var  : \", np.var(data))\n",
    "print(\"kurtosis: \",kurtosis(data))"
   ]
  },
  {
   "cell_type": "code",
   "execution_count": 25,
   "metadata": {},
   "outputs": [
    {
     "data": {
      "text/plain": [
       "3.0"
      ]
     },
     "execution_count": 25,
     "metadata": {},
     "output_type": "execute_result"
    }
   ],
   "source": [
    "import statistics as stat\n",
    "import numpy as np\n",
    "a=[1,2,3,4,5]\n",
    "np.mean(a)"
   ]
  },
  {
   "cell_type": "code",
   "execution_count": 26,
   "metadata": {},
   "outputs": [
    {
     "data": {
      "text/plain": [
       "1.5811388300841898"
      ]
     },
     "execution_count": 26,
     "metadata": {},
     "output_type": "execute_result"
    }
   ],
   "source": [
    "stat.stdev(a)"
   ]
  },
  {
   "cell_type": "code",
   "execution_count": 27,
   "metadata": {},
   "outputs": [
    {
     "data": {
      "text/plain": [
       "1.4142135623730951"
      ]
     },
     "execution_count": 27,
     "metadata": {},
     "output_type": "execute_result"
    }
   ],
   "source": [
    "stat.pstdev(a)"
   ]
  },
  {
   "cell_type": "code",
   "execution_count": 28,
   "metadata": {},
   "outputs": [
    {
     "data": {
      "text/plain": [
       "1.4142135623730951"
      ]
     },
     "execution_count": 28,
     "metadata": {},
     "output_type": "execute_result"
    }
   ],
   "source": [
    "np.std(a)"
   ]
  },
  {
   "cell_type": "code",
   "execution_count": 29,
   "metadata": {},
   "outputs": [
    {
     "name": "stdout",
     "output_type": "stream",
     "text": [
      "25.0%\n",
      "23.1%\n",
      "1.9%\n"
     ]
    }
   ],
   "source": [
    "# Create function that returns probability percent rounded to one decimal place\n",
    "def event_probability(event_outcomes, sample_space):\n",
    "    probability = (event_outcomes / sample_space) * 100\n",
    "    return round(probability, 1)\n",
    "\n",
    "# Sample Space\n",
    "cards = 52\n",
    "\n",
    "# Determine the probability of drawing a heart\n",
    "hearts = 13\n",
    "heart_probability = event_probability(hearts, cards)\n",
    "\n",
    "# Determine the probability of drawing a face card\n",
    "face_cards = 12\n",
    "face_card_probability = event_probability(face_cards, cards)\n",
    "\n",
    "# Determine the probability of drawing the queen of hearts\n",
    "queen_of_hearts = 1\n",
    "queen_of_hearts_probability = event_probability(queen_of_hearts, cards)\n",
    "\n",
    "# Print each probability\n",
    "print(str(heart_probability) + '%')\n",
    "print(str(face_card_probability) + '%')\n",
    "print(str(queen_of_hearts_probability) + '%')"
   ]
  },
  {
   "cell_type": "code",
   "execution_count": 30,
   "metadata": {},
   "outputs": [
    {
     "data": {
      "text/plain": [
       "25.0"
      ]
     },
     "execution_count": 30,
     "metadata": {},
     "output_type": "execute_result"
    }
   ],
   "source": [
    "heart_probability"
   ]
  },
  {
   "cell_type": "code",
   "execution_count": 31,
   "metadata": {},
   "outputs": [
    {
     "data": {
      "text/plain": [
       "array(2.5)"
      ]
     },
     "execution_count": 31,
     "metadata": {},
     "output_type": "execute_result"
    }
   ],
   "source": [
    "import numpy as np\n",
    "a=[1,2,3,4,5]\n",
    "np.cov(a)\n"
   ]
  },
  {
   "cell_type": "code",
   "execution_count": 32,
   "metadata": {},
   "outputs": [
    {
     "data": {
      "text/html": [
       "<div>\n",
       "<style scoped>\n",
       "    .dataframe tbody tr th:only-of-type {\n",
       "        vertical-align: middle;\n",
       "    }\n",
       "\n",
       "    .dataframe tbody tr th {\n",
       "        vertical-align: top;\n",
       "    }\n",
       "\n",
       "    .dataframe thead th {\n",
       "        text-align: right;\n",
       "    }\n",
       "</style>\n",
       "<table border=\"1\" class=\"dataframe\">\n",
       "  <thead>\n",
       "    <tr style=\"text-align: right;\">\n",
       "      <th></th>\n",
       "      <th>0</th>\n",
       "      <th>1</th>\n",
       "      <th>2</th>\n",
       "    </tr>\n",
       "  </thead>\n",
       "  <tbody>\n",
       "    <tr>\n",
       "      <th>0</th>\n",
       "      <td>1.000000</td>\n",
       "      <td>0.745601</td>\n",
       "      <td>0.916579</td>\n",
       "    </tr>\n",
       "    <tr>\n",
       "      <th>1</th>\n",
       "      <td>0.745601</td>\n",
       "      <td>1.000000</td>\n",
       "      <td>0.544248</td>\n",
       "    </tr>\n",
       "    <tr>\n",
       "      <th>2</th>\n",
       "      <td>0.916579</td>\n",
       "      <td>0.544248</td>\n",
       "      <td>1.000000</td>\n",
       "    </tr>\n",
       "  </tbody>\n",
       "</table>\n",
       "</div>"
      ],
      "text/plain": [
       "          0         1         2\n",
       "0  1.000000  0.745601  0.916579\n",
       "1  0.745601  1.000000  0.544248\n",
       "2  0.916579  0.544248  1.000000"
      ]
     },
     "execution_count": 32,
     "metadata": {},
     "output_type": "execute_result"
    }
   ],
   "source": [
    "import pandas as pd\n",
    "a = [[1, 2, 3],\n",
    "     [5, 6, 9],\n",
    "     [5, 6, 11],\n",
    "     [5, 6, 13],\n",
    "     [5, 3, 13]]\n",
    "df = pd.DataFrame(data=a)\n",
    "df.corr()"
   ]
  },
  {
   "cell_type": "code",
   "execution_count": 33,
   "metadata": {},
   "outputs": [
    {
     "data": {
      "text/html": [
       "<div>\n",
       "<style scoped>\n",
       "    .dataframe tbody tr th:only-of-type {\n",
       "        vertical-align: middle;\n",
       "    }\n",
       "\n",
       "    .dataframe tbody tr th {\n",
       "        vertical-align: top;\n",
       "    }\n",
       "\n",
       "    .dataframe thead th {\n",
       "        text-align: right;\n",
       "    }\n",
       "</style>\n",
       "<table border=\"1\" class=\"dataframe\">\n",
       "  <thead>\n",
       "    <tr style=\"text-align: right;\">\n",
       "      <th></th>\n",
       "      <th>0</th>\n",
       "      <th>1</th>\n",
       "      <th>2</th>\n",
       "    </tr>\n",
       "  </thead>\n",
       "  <tbody>\n",
       "    <tr>\n",
       "      <th>0</th>\n",
       "      <td>1</td>\n",
       "      <td>2</td>\n",
       "      <td>3</td>\n",
       "    </tr>\n",
       "    <tr>\n",
       "      <th>1</th>\n",
       "      <td>5</td>\n",
       "      <td>6</td>\n",
       "      <td>9</td>\n",
       "    </tr>\n",
       "    <tr>\n",
       "      <th>2</th>\n",
       "      <td>5</td>\n",
       "      <td>6</td>\n",
       "      <td>11</td>\n",
       "    </tr>\n",
       "    <tr>\n",
       "      <th>3</th>\n",
       "      <td>5</td>\n",
       "      <td>6</td>\n",
       "      <td>13</td>\n",
       "    </tr>\n",
       "    <tr>\n",
       "      <th>4</th>\n",
       "      <td>5</td>\n",
       "      <td>3</td>\n",
       "      <td>13</td>\n",
       "    </tr>\n",
       "  </tbody>\n",
       "</table>\n",
       "</div>"
      ],
      "text/plain": [
       "   0  1   2\n",
       "0  1  2   3\n",
       "1  5  6   9\n",
       "2  5  6  11\n",
       "3  5  6  13\n",
       "4  5  3  13"
      ]
     },
     "execution_count": 33,
     "metadata": {},
     "output_type": "execute_result"
    }
   ],
   "source": [
    "df"
   ]
  },
  {
   "cell_type": "code",
   "execution_count": 34,
   "metadata": {},
   "outputs": [],
   "source": [
    "import numpy as np\n",
    "from sklearn.preprocessing import StandardScaler\n",
    "import pandas as pd"
   ]
  },
  {
   "cell_type": "code",
   "execution_count": 35,
   "metadata": {},
   "outputs": [
    {
     "name": "stdout",
     "output_type": "stream",
     "text": [
      "StandardScaler(copy=True, with_mean=True, with_std=True)\n",
      "[[-0.39936969]\n",
      " [-0.39882652]\n",
      " [-0.39828334]\n",
      " [ 0.00746866]\n",
      " [-0.39774017]\n",
      " [-0.3727541 ]\n",
      " [-0.34559533]\n",
      " [ 0.1432625 ]\n",
      " [ 3.26760724]\n",
      " [-0.39013571]\n",
      " [-0.34994073]\n",
      " [-0.36569282]]\n"
     ]
    },
    {
     "name": "stderr",
     "output_type": "stream",
     "text": [
      "C:\\Users\\Naveen\\Anaconda3\\lib\\site-packages\\sklearn\\preprocessing\\data.py:625: DataConversionWarning: Data with input dtype int64 were all converted to float64 by StandardScaler.\n",
      "  return self.partial_fit(X, y)\n",
      "C:\\Users\\Naveen\\Anaconda3\\lib\\site-packages\\ipykernel_launcher.py:5: DataConversionWarning: Data with input dtype int64 were all converted to float64 by StandardScaler.\n",
      "  \"\"\"\n"
     ]
    }
   ],
   "source": [
    "data={'sample':[100,200,300,75000,400,5000,10000,100000,675200,1800,9200,6300]}\n",
    "data=pd.DataFrame(data)\n",
    "scaler=StandardScaler()\n",
    "print(scaler.fit(data))\n",
    "print(scaler.transform(data))"
   ]
  },
  {
   "cell_type": "code",
   "execution_count": 38,
   "metadata": {},
   "outputs": [
    {
     "name": "stdout",
     "output_type": "stream",
     "text": [
      "MinMaxScaler(copy=True, feature_range=(0, 1))\n"
     ]
    },
    {
     "name": "stderr",
     "output_type": "stream",
     "text": [
      "C:\\Users\\Naveen\\Anaconda3\\lib\\site-packages\\sklearn\\preprocessing\\data.py:323: DataConversionWarning: Data with input dtype int64 were all converted to float64 by MinMaxScaler.\n",
      "  return self.partial_fit(X, y)\n"
     ]
    }
   ],
   "source": [
    "from sklearn.preprocessing import MinMaxScaler\n",
    "minmax= MinMaxScaler()\n",
    "print(minmax.fit(data))"
   ]
  },
  {
   "cell_type": "code",
   "execution_count": 39,
   "metadata": {},
   "outputs": [
    {
     "name": "stdout",
     "output_type": "stream",
     "text": [
      "[[0.00000000e+00]\n",
      " [1.48126204e-04]\n",
      " [2.96252407e-04]\n",
      " [1.10946526e-01]\n",
      " [4.44378611e-04]\n",
      " [7.25818397e-03]\n",
      " [1.46644941e-02]\n",
      " [1.47978077e-01]\n",
      " [1.00000000e+00]\n",
      " [2.51814546e-03]\n",
      " [1.34794845e-02]\n",
      " [9.18382462e-03]]\n"
     ]
    }
   ],
   "source": [
    "print(minmax.transform(data))"
   ]
  },
  {
   "cell_type": "code",
   "execution_count": 40,
   "metadata": {},
   "outputs": [
    {
     "name": "stdout",
     "output_type": "stream",
     "text": [
      "[[-0.50221883]\n",
      " [-0.47457376]\n",
      " [-0.44692869]\n",
      " [-0.41928361]\n",
      " [-0.39163854]\n",
      " [ 2.23464343]]\n"
     ]
    }
   ],
   "source": [
    "data=[100,200,300,400,500,10000]\n",
    "standardized = (data-np.mean(data))/np.std(data)\n",
    "print(standardized.reshape(-1,1))"
   ]
  },
  {
   "cell_type": "code",
   "execution_count": 63,
   "metadata": {},
   "outputs": [],
   "source": [
    "import pandas as pd\n",
    "import numpy as np\n",
    "from sklearn.preprocessing import StandardScaler\n",
    "import matplotlib.pyplot as plt\n",
    "import seaborn as sns"
   ]
  },
  {
   "cell_type": "code",
   "execution_count": 64,
   "metadata": {},
   "outputs": [],
   "source": [
    "np.random.seed(1)\n",
    "df = pd.DataFrame({\n",
    "    'x1': np.random.normal(0, 2, 10000),\n",
    "    'x2': np.random.normal(5, 3, 10000),\n",
    "    'x3': np.random.normal(-5, 5, 10000)\n",
    "})"
   ]
  },
  {
   "cell_type": "code",
   "execution_count": 65,
   "metadata": {},
   "outputs": [
    {
     "data": {
      "text/html": [
       "<div>\n",
       "<style scoped>\n",
       "    .dataframe tbody tr th:only-of-type {\n",
       "        vertical-align: middle;\n",
       "    }\n",
       "\n",
       "    .dataframe tbody tr th {\n",
       "        vertical-align: top;\n",
       "    }\n",
       "\n",
       "    .dataframe thead th {\n",
       "        text-align: right;\n",
       "    }\n",
       "</style>\n",
       "<table border=\"1\" class=\"dataframe\">\n",
       "  <thead>\n",
       "    <tr style=\"text-align: right;\">\n",
       "      <th></th>\n",
       "      <th>x1</th>\n",
       "      <th>x2</th>\n",
       "      <th>x3</th>\n",
       "    </tr>\n",
       "  </thead>\n",
       "  <tbody>\n",
       "    <tr>\n",
       "      <th>0</th>\n",
       "      <td>3.248691</td>\n",
       "      <td>4.632578</td>\n",
       "      <td>-14.657819</td>\n",
       "    </tr>\n",
       "    <tr>\n",
       "      <th>1</th>\n",
       "      <td>-1.223513</td>\n",
       "      <td>5.684509</td>\n",
       "      <td>-5.802131</td>\n",
       "    </tr>\n",
       "    <tr>\n",
       "      <th>2</th>\n",
       "      <td>-1.056344</td>\n",
       "      <td>3.943085</td>\n",
       "      <td>-9.161098</td>\n",
       "    </tr>\n",
       "    <tr>\n",
       "      <th>3</th>\n",
       "      <td>-2.145937</td>\n",
       "      <td>2.508340</td>\n",
       "      <td>-6.030558</td>\n",
       "    </tr>\n",
       "    <tr>\n",
       "      <th>4</th>\n",
       "      <td>1.730815</td>\n",
       "      <td>4.216731</td>\n",
       "      <td>0.131275</td>\n",
       "    </tr>\n",
       "  </tbody>\n",
       "</table>\n",
       "</div>"
      ],
      "text/plain": [
       "         x1        x2         x3\n",
       "0  3.248691  4.632578 -14.657819\n",
       "1 -1.223513  5.684509  -5.802131\n",
       "2 -1.056344  3.943085  -9.161098\n",
       "3 -2.145937  2.508340  -6.030558\n",
       "4  1.730815  4.216731   0.131275"
      ]
     },
     "execution_count": 65,
     "metadata": {},
     "output_type": "execute_result"
    }
   ],
   "source": [
    "df.head()"
   ]
  },
  {
   "cell_type": "code",
   "execution_count": 66,
   "metadata": {},
   "outputs": [
    {
     "data": {
      "text/plain": [
       "array([[ 1.61653543, -0.13175263, -1.9247574 ],\n",
       "       [-0.62228462,  0.21847458, -0.14641572],\n",
       "       [-0.53859835, -0.36131085, -0.82094159],\n",
       "       ...,\n",
       "       [-1.02516118,  2.39614871, -0.06951623],\n",
       "       [-0.07255698,  0.87231272, -1.27409225],\n",
       "       [-1.44940235, -0.10890221,  0.35836759]])"
      ]
     },
     "execution_count": 66,
     "metadata": {},
     "output_type": "execute_result"
    }
   ],
   "source": [
    "# Use StandardScaler\n",
    "scaler = StandardScaler()\n",
    "scaled_df = scaler.fit_transform(df)\n",
    "scaled_df"
   ]
  },
  {
   "cell_type": "code",
   "execution_count": 67,
   "metadata": {},
   "outputs": [],
   "source": [
    "scaled_df = pd.DataFrame(scaled_df, columns=['x1', 'x2', 'x3'])"
   ]
  },
  {
   "cell_type": "code",
   "execution_count": 68,
   "metadata": {},
   "outputs": [
    {
     "data": {
      "text/html": [
       "<div>\n",
       "<style scoped>\n",
       "    .dataframe tbody tr th:only-of-type {\n",
       "        vertical-align: middle;\n",
       "    }\n",
       "\n",
       "    .dataframe tbody tr th {\n",
       "        vertical-align: top;\n",
       "    }\n",
       "\n",
       "    .dataframe thead th {\n",
       "        text-align: right;\n",
       "    }\n",
       "</style>\n",
       "<table border=\"1\" class=\"dataframe\">\n",
       "  <thead>\n",
       "    <tr style=\"text-align: right;\">\n",
       "      <th></th>\n",
       "      <th>x1</th>\n",
       "      <th>x2</th>\n",
       "      <th>x3</th>\n",
       "    </tr>\n",
       "  </thead>\n",
       "  <tbody>\n",
       "    <tr>\n",
       "      <th>0</th>\n",
       "      <td>1.616535</td>\n",
       "      <td>-0.131753</td>\n",
       "      <td>-1.924757</td>\n",
       "    </tr>\n",
       "    <tr>\n",
       "      <th>1</th>\n",
       "      <td>-0.622285</td>\n",
       "      <td>0.218475</td>\n",
       "      <td>-0.146416</td>\n",
       "    </tr>\n",
       "    <tr>\n",
       "      <th>2</th>\n",
       "      <td>-0.538598</td>\n",
       "      <td>-0.361311</td>\n",
       "      <td>-0.820942</td>\n",
       "    </tr>\n",
       "    <tr>\n",
       "      <th>3</th>\n",
       "      <td>-1.084057</td>\n",
       "      <td>-0.838991</td>\n",
       "      <td>-0.192287</td>\n",
       "    </tr>\n",
       "    <tr>\n",
       "      <th>4</th>\n",
       "      <td>0.856675</td>\n",
       "      <td>-0.270204</td>\n",
       "      <td>1.045092</td>\n",
       "    </tr>\n",
       "  </tbody>\n",
       "</table>\n",
       "</div>"
      ],
      "text/plain": [
       "         x1        x2        x3\n",
       "0  1.616535 -0.131753 -1.924757\n",
       "1 -0.622285  0.218475 -0.146416\n",
       "2 -0.538598 -0.361311 -0.820942\n",
       "3 -1.084057 -0.838991 -0.192287\n",
       "4  0.856675 -0.270204  1.045092"
      ]
     },
     "execution_count": 68,
     "metadata": {},
     "output_type": "execute_result"
    }
   ],
   "source": [
    "scaled_df.head()"
   ]
  },
  {
   "cell_type": "code",
   "execution_count": 69,
   "metadata": {},
   "outputs": [
    {
     "name": "stderr",
     "output_type": "stream",
     "text": [
      "C:\\Users\\Naveen\\Anaconda3\\lib\\site-packages\\scipy\\stats\\stats.py:1713: FutureWarning: Using a non-tuple sequence for multidimensional indexing is deprecated; use `arr[tuple(seq)]` instead of `arr[seq]`. In the future this will be interpreted as an array index, `arr[np.array(seq)]`, which will result either in an error or a different result.\n",
      "  return np.add.reduce(sorted[indexer] * weights, axis=axis) / sumval\n"
     ]
    },
    {
     "data": {
      "image/png": "[encoded data removed]",
      "text/plain": [
       "<Figure size 720x360 with 2 Axes>"
      ]
     },
     "metadata": {
      "needs_background": "light"
     },
     "output_type": "display_data"
    }
   ],
   "source": [
    "fig, (ax1, ax2) = plt.subplots(ncols=2, figsize=(10,5))\n",
    "\n",
    "ax1.set_title('Before Scaling')\n",
    "sns.kdeplot(df['x1'], ax=ax1)\n",
    "sns.kdeplot(df['x2'], ax=ax1)\n",
    "sns.kdeplot(df['x3'], ax=ax1)\n",
    "\n",
    "ax2.set_title('After Standard Scaler')\n",
    "sns.kdeplot(scaled_df['x1'], ax=ax2)\n",
    "sns.kdeplot(scaled_df['x2'], ax=ax2)\n",
    "sns.kdeplot(scaled_df['x3'], ax=ax2)\n",
    "plt.show()"
   ]
  },
  {
   "cell_type": "code",
   "execution_count": 47,
   "metadata": {},
   "outputs": [
    {
     "data": {
      "text/plain": [
       "0.999999999999999"
      ]
     },
     "execution_count": 47,
     "metadata": {},
     "output_type": "execute_result"
    }
   ],
   "source": [
    "np.std(scaled_df['x1'])"
   ]
  },
  {
   "cell_type": "code",
   "execution_count": 48,
   "metadata": {},
   "outputs": [],
   "source": [
    "import pandas as pd\n",
    "import numpy as np\n",
    "import matplotlib.pyplot as plt\n",
    "import seaborn as sns\n",
    "from sklearn.preprocessing import MinMaxScaler "
   ]
  },
  {
   "cell_type": "code",
   "execution_count": 49,
   "metadata": {},
   "outputs": [],
   "source": [
    "# Create data samples x1, x2, x3\n",
    "df = pd.DataFrame({\n",
    "    # positive skew\n",
    "    'x1': np.random.chisquare(8, 1000),\n",
    "    # negative skew \n",
    "    'x2': np.random.beta(8, 2, 1000) * 40,\n",
    "    # no skew\n",
    "    'x3': np.random.normal(50, 3, 1000)\n",
    "})"
   ]
  },
  {
   "cell_type": "code",
   "execution_count": 60,
   "metadata": {},
   "outputs": [
    {
     "data": {
      "text/html": [
       "<div>\n",
       "<style scoped>\n",
       "    .dataframe tbody tr th:only-of-type {\n",
       "        vertical-align: middle;\n",
       "    }\n",
       "\n",
       "    .dataframe tbody tr th {\n",
       "        vertical-align: top;\n",
       "    }\n",
       "\n",
       "    .dataframe thead th {\n",
       "        text-align: right;\n",
       "    }\n",
       "</style>\n",
       "<table border=\"1\" class=\"dataframe\">\n",
       "  <thead>\n",
       "    <tr style=\"text-align: right;\">\n",
       "      <th></th>\n",
       "      <th>x1</th>\n",
       "      <th>x2</th>\n",
       "      <th>x3</th>\n",
       "    </tr>\n",
       "  </thead>\n",
       "  <tbody>\n",
       "    <tr>\n",
       "      <th>0</th>\n",
       "      <td>8.913396</td>\n",
       "      <td>33.282653</td>\n",
       "      <td>54.509849</td>\n",
       "    </tr>\n",
       "    <tr>\n",
       "      <th>1</th>\n",
       "      <td>5.583017</td>\n",
       "      <td>38.986294</td>\n",
       "      <td>52.473472</td>\n",
       "    </tr>\n",
       "    <tr>\n",
       "      <th>2</th>\n",
       "      <td>19.713205</td>\n",
       "      <td>26.377055</td>\n",
       "      <td>48.803613</td>\n",
       "    </tr>\n",
       "    <tr>\n",
       "      <th>3</th>\n",
       "      <td>23.293714</td>\n",
       "      <td>31.520740</td>\n",
       "      <td>50.593609</td>\n",
       "    </tr>\n",
       "    <tr>\n",
       "      <th>4</th>\n",
       "      <td>11.508381</td>\n",
       "      <td>38.646724</td>\n",
       "      <td>49.702286</td>\n",
       "    </tr>\n",
       "  </tbody>\n",
       "</table>\n",
       "</div>"
      ],
      "text/plain": [
       "          x1         x2         x3\n",
       "0   8.913396  33.282653  54.509849\n",
       "1   5.583017  38.986294  52.473472\n",
       "2  19.713205  26.377055  48.803613\n",
       "3  23.293714  31.520740  50.593609\n",
       "4  11.508381  38.646724  49.702286"
      ]
     },
     "execution_count": 60,
     "metadata": {},
     "output_type": "execute_result"
    }
   ],
   "source": [
    "df.head()"
   ]
  },
  {
   "cell_type": "code",
   "execution_count": 51,
   "metadata": {},
   "outputs": [
    {
     "data": {
      "text/plain": [
       "array([[0.32059225, 0.77600921, 0.74863604],\n",
       "       [0.18470181, 0.97190315, 0.64512518],\n",
       "       [0.76126   , 0.53883356, 0.4585829 ],\n",
       "       ...,\n",
       "       [0.5091516 , 0.81180249, 0.94135676],\n",
       "       [0.30429032, 0.89745712, 0.46954135],\n",
       "       [0.19453038, 0.97951662, 0.3918155 ]])"
      ]
     },
     "execution_count": 51,
     "metadata": {},
     "output_type": "execute_result"
    }
   ],
   "source": [
    "# Use MinMaxScaler\n",
    "scaler = MinMaxScaler()\n",
    "scaled_df = scaler.fit_transform(df)\n",
    "scaled_df"
   ]
  },
  {
   "cell_type": "code",
   "execution_count": 52,
   "metadata": {},
   "outputs": [
    {
     "data": {
      "text/html": [
       "<div>\n",
       "<style scoped>\n",
       "    .dataframe tbody tr th:only-of-type {\n",
       "        vertical-align: middle;\n",
       "    }\n",
       "\n",
       "    .dataframe tbody tr th {\n",
       "        vertical-align: top;\n",
       "    }\n",
       "\n",
       "    .dataframe thead th {\n",
       "        text-align: right;\n",
       "    }\n",
       "</style>\n",
       "<table border=\"1\" class=\"dataframe\">\n",
       "  <thead>\n",
       "    <tr style=\"text-align: right;\">\n",
       "      <th></th>\n",
       "      <th>x1</th>\n",
       "      <th>x2</th>\n",
       "      <th>x3</th>\n",
       "    </tr>\n",
       "  </thead>\n",
       "  <tbody>\n",
       "    <tr>\n",
       "      <th>0</th>\n",
       "      <td>0.320592</td>\n",
       "      <td>0.776009</td>\n",
       "      <td>0.748636</td>\n",
       "    </tr>\n",
       "    <tr>\n",
       "      <th>1</th>\n",
       "      <td>0.184702</td>\n",
       "      <td>0.971903</td>\n",
       "      <td>0.645125</td>\n",
       "    </tr>\n",
       "    <tr>\n",
       "      <th>2</th>\n",
       "      <td>0.761260</td>\n",
       "      <td>0.538834</td>\n",
       "      <td>0.458583</td>\n",
       "    </tr>\n",
       "    <tr>\n",
       "      <th>3</th>\n",
       "      <td>0.907357</td>\n",
       "      <td>0.715496</td>\n",
       "      <td>0.549570</td>\n",
       "    </tr>\n",
       "    <tr>\n",
       "      <th>4</th>\n",
       "      <td>0.426476</td>\n",
       "      <td>0.960240</td>\n",
       "      <td>0.504263</td>\n",
       "    </tr>\n",
       "  </tbody>\n",
       "</table>\n",
       "</div>"
      ],
      "text/plain": [
       "         x1        x2        x3\n",
       "0  0.320592  0.776009  0.748636\n",
       "1  0.184702  0.971903  0.645125\n",
       "2  0.761260  0.538834  0.458583\n",
       "3  0.907357  0.715496  0.549570\n",
       "4  0.426476  0.960240  0.504263"
      ]
     },
     "execution_count": 52,
     "metadata": {},
     "output_type": "execute_result"
    }
   ],
   "source": [
    "scaled_df = pd.DataFrame(scaled_df, columns=['x1', 'x2', 'x3'])\n",
    "scaled_df.head()"
   ]
  },
  {
   "cell_type": "code",
   "execution_count": 53,
   "metadata": {},
   "outputs": [
    {
     "name": "stderr",
     "output_type": "stream",
     "text": [
      "C:\\Users\\Naveen\\Anaconda3\\lib\\site-packages\\scipy\\stats\\stats.py:1713: FutureWarning: Using a non-tuple sequence for multidimensional indexing is deprecated; use `arr[tuple(seq)]` instead of `arr[seq]`. In the future this will be interpreted as an array index, `arr[np.array(seq)]`, which will result either in an error or a different result.\n",
      "  return np.add.reduce(sorted[indexer] * weights, axis=axis) / sumval\n"
     ]
    },
    {
     "data": {
      "image/png": "[encoded data removed]",
      "text/plain": [
       "<Figure size 720x432 with 2 Axes>"
      ]
     },
     "metadata": {
      "needs_background": "light"
     },
     "output_type": "display_data"
    }
   ],
   "source": [
    "fig, (ax1, ax2) = plt.subplots(ncols=2, figsize=(10, 6))\n",
    "ax1.set_title('Before Scaling')\n",
    "sns.kdeplot(df['x1'], ax=ax1)\n",
    "sns.kdeplot(df['x2'], ax=ax1)\n",
    "sns.kdeplot(df['x3'], ax=ax1)\n",
    "ax2.set_title('After Min-Max Scaling')\n",
    "sns.kdeplot(scaled_df['x1'], ax=ax2)\n",
    "sns.kdeplot(scaled_df['x2'], ax=ax2)\n",
    "sns.kdeplot(scaled_df['x3'], ax=ax2)\n",
    "plt.show()"
   ]
  },
  {
   "cell_type": "code",
   "execution_count": 54,
   "metadata": {},
   "outputs": [],
   "source": [
    "import numpy as np\n",
    "def interquartile_range(values):\n",
    "    '''Return the difference between the 75% and 25% percentiles.\n",
    "    '''\n",
    "    \n",
    "    return np.quantile(values, 0.75) - np.quantile(values, 0.25)"
   ]
  },
  {
   "cell_type": "code",
   "execution_count": 55,
   "metadata": {},
   "outputs": [],
   "source": [
    "nums = [15,2,14,10,23,12,4,5,6,18]"
   ]
  },
  {
   "cell_type": "code",
   "execution_count": 56,
   "metadata": {},
   "outputs": [
    {
     "data": {
      "text/plain": [
       "9.5"
      ]
     },
     "execution_count": 56,
     "metadata": {},
     "output_type": "execute_result"
    }
   ],
   "source": [
    "interquartile_range(nums)"
   ]
  },
  {
   "cell_type": "code",
   "execution_count": 57,
   "metadata": {},
   "outputs": [
    {
     "data": {
      "text/plain": [
       "5.25"
      ]
     },
     "execution_count": 57,
     "metadata": {},
     "output_type": "execute_result"
    }
   ],
   "source": [
    "np.quantile(nums,0.25)"
   ]
  },
  {
   "cell_type": "code",
   "execution_count": 58,
   "metadata": {},
   "outputs": [
    {
     "data": {
      "text/plain": [
       "14.75"
      ]
     },
     "execution_count": 58,
     "metadata": {},
     "output_type": "execute_result"
    }
   ],
   "source": [
    "np.quantile(nums,0.75)"
   ]
  },
  {
   "cell_type": "code",
   "execution_count": 59,
   "metadata": {},
   "outputs": [],
   "source": [
    "np.quantile?"
   ]
  },
  {
   "cell_type": "code",
   "execution_count": null,
   "metadata": {},
   "outputs": [],
   "source": [
    "np.sort(nums)"
   ]
  },
  {
   "cell_type": "code",
   "execution_count": null,
   "metadata": {},
   "outputs": [],
   "source": []
  }
 ],
 "metadata": {
  "kernelspec": {
   "display_name": "Python 3",
   "language": "python",
   "name": "python3"
  },
  "language_info": {
   "codemirror_mode": {
    "name": "ipython",
    "version": 3
   },
   "file_extension": ".py",
   "mimetype": "text/x-python",
   "name": "python",
   "nbconvert_exporter": "python",
   "pygments_lexer": "ipython3",
   "version": "3.7.3"
  }
 },
 "nbformat": 4,
 "nbformat_minor": 2
}
